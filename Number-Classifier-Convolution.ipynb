{
 "cells": [
  {
   "cell_type": "markdown",
   "metadata": {},
   "source": [
    "# Handwritten Number Classification using Convolutional Layers."
   ]
  },
  {
   "cell_type": "markdown",
   "metadata": {},
   "source": [
    "* *Convolutional layers* use a filter matrix over the array of image pixels and performs convolution operation to obtain a **convoluted feature map*.\n",
    "\n",
    "* *Filter Matrix* slides over image to compute the *Convolution Operation*, the resulting matrix of these conv operations is called *Convolution feature Map*.\n",
    "Covolution + Relu gives *Rectified Feature Map*.\n",
    "\n",
    "* Now **Pooling layer** acts on these feature maps, reducing dimentionality of feature maps to give *Pooled Feature Map*.\n",
    "\n",
    "* As a convention in CNNs, we decrease the dimensins of a layer as we go deeper and increase the number of feature maps to make it detect more features and decrease the computational cost.\n",
    "\n",
    "* ~Keras related :\n",
    "     * Kernal Size: Size of convolutional filter.\n",
    "     * Same padding: size of output feature maps = input\n",
    "     * Valid padding: No padding."
   ]
  },
  {
   "cell_type": "code",
   "execution_count": 41,
   "metadata": {},
   "outputs": [
    {
     "name": "stdout",
     "output_type": "stream",
     "text": [
      "Epoch 1/4\n",
      "60000/60000 [==============================] - 106s 2ms/sample - loss: 0.1643 - acc: 0.9493\n",
      "Epoch 2/4\n",
      "60000/60000 [==============================] - 106s 2ms/sample - loss: 0.0509 - acc: 0.9840\n",
      "Epoch 3/4\n",
      "60000/60000 [==============================] - 105s 2ms/sample - loss: 0.0364 - acc: 0.9888\n",
      "Epoch 4/4\n",
      "60000/60000 [==============================] - 97s 2ms/sample - loss: 0.0270 - acc: 0.9912\n"
     ]
    },
    {
     "data": {
      "text/plain": [
       "<tensorflow.python.keras.callbacks.History at 0x7f36d93036a0>"
      ]
     },
     "execution_count": 41,
     "metadata": {},
     "output_type": "execute_result"
    }
   ],
   "source": [
    "import numpy\n",
    "from tensorflow.keras import backend as K\n",
    "from tensorflow.keras.datasets import mnist\n",
    "from tensorflow.keras.layers import Dense, Dropout,Flatten,Conv2D,MaxPooling2D,Flatten\n",
    "from tensorflow.keras.models import Sequential\n",
    "from tensorflow.keras.utils import normalize\n",
    "\n",
    "(x_train,y_train),(x_test,y_test) = mnist.load_data()\n",
    "\n",
    "output=10\n",
    "\n",
    "x_train = normalize(x_train, axis=1)  # scales data between 0 and 1\n",
    "x_test = normalize(x_test, axis=1)  # scales data between 0 and 1\n",
    "\n",
    "#changing shape of data to match make it single channel. \n",
    "#Basically need to specify number of chaneels in conv_2D\n",
    "x_train = x_train.reshape(x_train.shape[0], 28, 28 , 1).astype('float32')\n",
    "x_test = x_test.reshape(x_test.shape[0], 28, 28 , 1).astype('float32')\n",
    "\n",
    "model = Sequential()\n",
    "\n",
    "model.add(Conv2D(50, kernel_size=5, padding=\"same\",input_shape=(28,28,1), activation = 'relu'))\n",
    "model.add(MaxPooling2D(pool_size=(2, 2), strides=(2, 2)))\n",
    "model.add(Conv2D(60, kernel_size=3, padding=\"valid\", activation = 'relu'))\n",
    "model.add(MaxPooling2D(pool_size=(3, 3), strides=(3,3)))\n",
    "\n",
    "model.add(Flatten())\n",
    "model.add(Dense(128, activation = 'relu'))\n",
    "model.add(Dense(output, activation= 'softmax'))\n",
    "\n",
    "model.compile(loss='sparse_categorical_crossentropy', optimizer='adam', metrics=['accuracy'])\n",
    "\n",
    "model.fit(x_train, y_train, epochs=4)"
   ]
  },
  {
   "cell_type": "code",
   "execution_count": 42,
   "metadata": {},
   "outputs": [
    {
     "name": "stdout",
     "output_type": "stream",
     "text": [
      "10000/10000 [==============================] - 5s 490us/sample - loss: 0.0255 - acc: 0.9916\n",
      "0.025517313500866293\n",
      "0.9916\n"
     ]
    }
   ],
   "source": [
    "#Evaluation,\n",
    "val_loss, val_acc = model.evaluate(x_test, y_test)\n",
    "print(val_loss)\n",
    "print(val_acc)"
   ]
  },
  {
   "cell_type": "code",
   "execution_count": 44,
   "metadata": {},
   "outputs": [
    {
     "name": "stdout",
     "output_type": "stream",
     "text": [
      "_________________________________________________________________\n",
      "Layer (type)                 Output Shape              Param #   \n",
      "=================================================================\n",
      "conv2d_49 (Conv2D)           (None, 28, 28, 50)        1300      \n",
      "_________________________________________________________________\n",
      "max_pooling2d_43 (MaxPooling (None, 14, 14, 50)        0         \n",
      "_________________________________________________________________\n",
      "conv2d_50 (Conv2D)           (None, 12, 12, 60)        27060     \n",
      "_________________________________________________________________\n",
      "max_pooling2d_44 (MaxPooling (None, 4, 4, 60)          0         \n",
      "_________________________________________________________________\n",
      "flatten_18 (Flatten)         (None, 960)               0         \n",
      "_________________________________________________________________\n",
      "dense_33 (Dense)             (None, 128)               123008    \n",
      "_________________________________________________________________\n",
      "dense_34 (Dense)             (None, 10)                1290      \n",
      "=================================================================\n",
      "Total params: 152,658\n",
      "Trainable params: 152,658\n",
      "Non-trainable params: 0\n",
      "_________________________________________________________________\n"
     ]
    }
   ],
   "source": [
    "model.summary()"
   ]
  },
  {
   "cell_type": "code",
   "execution_count": 45,
   "metadata": {},
   "outputs": [],
   "source": [
    "model.save('hand_numeric_reader_convolutional.model')"
   ]
  },
  {
   "cell_type": "code",
   "execution_count": null,
   "metadata": {},
   "outputs": [],
   "source": []
  }
 ],
 "metadata": {
  "kernelspec": {
   "display_name": "Python 3",
   "language": "python",
   "name": "python3"
  },
  "language_info": {
   "codemirror_mode": {
    "name": "ipython",
    "version": 3
   },
   "file_extension": ".py",
   "mimetype": "text/x-python",
   "name": "python",
   "nbconvert_exporter": "python",
   "pygments_lexer": "ipython3",
   "version": "3.7.3"
  }
 },
 "nbformat": 4,
 "nbformat_minor": 2
}
