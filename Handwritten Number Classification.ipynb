{
 "cells": [
  {
   "cell_type": "markdown",
   "metadata": {},
   "source": [
    "# Handwritten Number Classification Using Dense Layers.\n"
   ]
  },
  {
   "cell_type": "markdown",
   "metadata": {},
   "source": [
    "**Perceptrton:** A fully connected neural network.\n",
    "\n",
    "**Dense Layers**: Fully connected neural networks. \n",
    " * Input must be a vector\n",
    "*Drawback of only using dense layer* : We obfuscate information about which pixels are next to each other and losse their coonections.\n",
    "\n",
    "**Softmax:** Normalizes the values such that:\n",
    " * All values are between 0 and 1\n",
    " * Sum of all are 1\n",
    " \n",
    "**Relu**: MAX[0,X] -- converts negetive pixels to zero.\n",
    "\n",
    "**Overfitting:** Neural networks can adjust their parameters to fit the training data so preciesly that they sometimes then no longer generalizes to data from test.\n",
    "*Indiication:* When accuracy of test data exceeds that during training.\n",
    "\n",
    "**Cost Function:** Measure of overall loss in our network after assigning values to the parameters during the forward phase.\n",
    "\n",
    "**Optimizer**: Here gradient decent algorithm is used. We use it to minimize the cost function to approach the minimum point.\n"
   ]
  },
  {
   "cell_type": "code",
   "execution_count": 9,
   "metadata": {},
   "outputs": [
    {
     "name": "stdout",
     "output_type": "stream",
     "text": [
      "Epoch 1/30\n",
      "60000/60000 [==============================] - 6s 103us/sample - loss: 0.3375 - acc: 0.8983\n",
      "Epoch 2/30\n",
      "60000/60000 [==============================] - 6s 104us/sample - loss: 0.1250 - acc: 0.9625\n",
      "Epoch 3/30\n",
      "60000/60000 [==============================] - 6s 106us/sample - loss: 0.0888 - acc: 0.9734\n",
      "Epoch 4/30\n",
      "60000/60000 [==============================] - 7s 111us/sample - loss: 0.0685 - acc: 0.9789\n",
      "Epoch 5/30\n",
      "60000/60000 [==============================] - 7s 110us/sample - loss: 0.0561 - acc: 0.9831\n",
      "Epoch 6/30\n",
      "60000/60000 [==============================] - 6s 107us/sample - loss: 0.0465 - acc: 0.9856\n",
      "Epoch 7/30\n",
      "60000/60000 [==============================] - 6s 95us/sample - loss: 0.0421 - acc: 0.9869\n",
      "Epoch 8/30\n",
      "60000/60000 [==============================] - 6s 96us/sample - loss: 0.0355 - acc: 0.9895\n",
      "Epoch 9/30\n",
      "60000/60000 [==============================] - 6s 95us/sample - loss: 0.0317 - acc: 0.9904\n",
      "Epoch 10/30\n",
      "60000/60000 [==============================] - 6s 100us/sample - loss: 0.0261 - acc: 0.9922\n",
      "Epoch 11/30\n",
      "60000/60000 [==============================] - 6s 96us/sample - loss: 0.0278 - acc: 0.9916\n",
      "Epoch 12/30\n",
      "60000/60000 [==============================] - 6s 101us/sample - loss: 0.0219 - acc: 0.9929\n",
      "Epoch 13/30\n",
      "60000/60000 [==============================] - 7s 121us/sample - loss: 0.0216 - acc: 0.9932\n",
      "Epoch 14/30\n",
      "60000/60000 [==============================] - 7s 119us/sample - loss: 0.0194 - acc: 0.9941\n",
      "Epoch 15/30\n",
      "60000/60000 [==============================] - 6s 106us/sample - loss: 0.0186 - acc: 0.9943\n",
      "Epoch 16/30\n",
      "60000/60000 [==============================] - 6s 100us/sample - loss: 0.0182 - acc: 0.9946\n",
      "Epoch 17/30\n",
      "60000/60000 [==============================] - 6s 101us/sample - loss: 0.0151 - acc: 0.9955\n",
      "Epoch 18/30\n",
      "60000/60000 [==============================] - 6s 101us/sample - loss: 0.0152 - acc: 0.9955\n",
      "Epoch 19/30\n",
      "60000/60000 [==============================] - 7s 114us/sample - loss: 0.0133 - acc: 0.9958\n",
      "Epoch 20/30\n",
      "60000/60000 [==============================] - 7s 111us/sample - loss: 0.0134 - acc: 0.9959\n",
      "Epoch 21/30\n",
      "60000/60000 [==============================] - 7s 116us/sample - loss: 0.0134 - acc: 0.9963\n",
      "Epoch 22/30\n",
      "60000/60000 [==============================] - 7s 110us/sample - loss: 0.0135 - acc: 0.9962\n",
      "Epoch 23/30\n",
      "60000/60000 [==============================] - 6s 97us/sample - loss: 0.0122 - acc: 0.9963\n",
      "Epoch 24/30\n",
      "60000/60000 [==============================] - 6s 99us/sample - loss: 0.0115 - acc: 0.9964\n",
      "Epoch 25/30\n",
      "60000/60000 [==============================] - 6s 97us/sample - loss: 0.0091 - acc: 0.9971\n",
      "Epoch 26/30\n",
      "60000/60000 [==============================] - 6s 100us/sample - loss: 0.0100 - acc: 0.9970\n",
      "Epoch 27/30\n",
      "60000/60000 [==============================] - 7s 108us/sample - loss: 0.0098 - acc: 0.9972\n",
      "Epoch 28/30\n",
      "60000/60000 [==============================] - 6s 108us/sample - loss: 0.0103 - acc: 0.9973\n",
      "Epoch 29/30\n",
      "60000/60000 [==============================] - 6s 101us/sample - loss: 0.0086 - acc: 0.9976\n",
      "Epoch 30/30\n",
      "60000/60000 [==============================] - 6s 102us/sample - loss: 0.0084 - acc: 0.9976\n"
     ]
    },
    {
     "data": {
      "text/plain": [
       "<tensorflow.python.keras.callbacks.History at 0x7f5d4a700780>"
      ]
     },
     "execution_count": 9,
     "metadata": {},
     "output_type": "execute_result"
    }
   ],
   "source": [
    "import tensorflow as tf\n",
    "import tensorflow.keras.datasets as data\n",
    "from tensorflow.keras.layers import Dense\n",
    "\n",
    "mnist = data.mnist\n",
    "(data_train, label_train),(data_test, label_test) = mnist.load_data()\n",
    "#Loading mnist data.\n",
    "\n",
    "model = tf.keras.models.Sequential()\n",
    "#Using sequential model for the problem.\n",
    "\n",
    "model.add(tf.keras.layers.Flatten(input_shape=(28,28))) #Using flatten layer to convert 28*28 images to 1*784 images.\n",
    "model.add(Dense(128, activation=tf.nn.relu))\n",
    "model.add(Dense(128, activation=tf.nn.relu))\n",
    "model.add(Dense(64, activation=tf.nn.relu))\n",
    "model.add(Dense(32, activation=tf.nn.relu))\n",
    "model.add(Dense(32, activation=tf.nn.relu))\n",
    "model.add(Dense(16, activation=tf.nn.relu))\n",
    "#Just a framework of dense layers which worked good.\n",
    "\n",
    "model.add(Dense(10, activation=tf.nn.softmax))\n",
    "#output layer\n",
    "\n",
    "model.compile(optimizer='adam',\n",
    "              loss='sparse_categorical_crossentropy',\n",
    "              metrics=['accuracy'])\n",
    "\n",
    "model.fit(data_train, label_train, epochs=30)\n"
   ]
  },
  {
   "cell_type": "code",
   "execution_count": 10,
   "metadata": {},
   "outputs": [
    {
     "name": "stdout",
     "output_type": "stream",
     "text": [
      "10000/10000 [==============================] - 0s 40us/sample - loss: 0.1441 - acc: 0.9757\n",
      "0.14412722953158044\n",
      "0.9757\n"
     ]
    }
   ],
   "source": [
    "#Evaluation,\n",
    "val_loss, val_acc = model.evaluate(data_test, label_test)\n",
    "print(val_loss)\n",
    "print(val_acc)"
   ]
  },
  {
   "cell_type": "code",
   "execution_count": 17,
   "metadata": {},
   "outputs": [],
   "source": [
    "model.save('hand_numeric_reader_dense.model') #Saving models."
   ]
  },
  {
   "cell_type": "code",
   "execution_count": 18,
   "metadata": {},
   "outputs": [],
   "source": [
    "new_model = tf.keras.models.load_model('hand_numeric_reader_dense.model') #Loading models"
   ]
  },
  {
   "cell_type": "code",
   "execution_count": 19,
   "metadata": {},
   "outputs": [
    {
     "name": "stdout",
     "output_type": "stream",
     "text": [
      "Result:  7\n",
      "True:  7\n"
     ]
    }
   ],
   "source": [
    "#Testing the predictions:\n",
    "import numpy as np\n",
    "\n",
    "predictions = new_model.predict(data_test)\n",
    "print(\"Result: \", np.argmax(predictions[1500])) #any random image (1500th in this case)\n",
    "print(\"True: \",label_test[1500])"
   ]
  },
  {
   "cell_type": "code",
   "execution_count": 20,
   "metadata": {},
   "outputs": [
    {
     "name": "stdout",
     "output_type": "stream",
     "text": [
      "_________________________________________________________________\n",
      "Layer (type)                 Output Shape              Param #   \n",
      "=================================================================\n",
      "flatten_1 (Flatten)          (None, 784)               0         \n",
      "_________________________________________________________________\n",
      "dense_7 (Dense)              (None, 128)               100480    \n",
      "_________________________________________________________________\n",
      "dense_8 (Dense)              (None, 128)               16512     \n",
      "_________________________________________________________________\n",
      "dense_9 (Dense)              (None, 64)                8256      \n",
      "_________________________________________________________________\n",
      "dense_10 (Dense)             (None, 32)                2080      \n",
      "_________________________________________________________________\n",
      "dense_11 (Dense)             (None, 32)                1056      \n",
      "_________________________________________________________________\n",
      "dense_12 (Dense)             (None, 16)                528       \n",
      "_________________________________________________________________\n",
      "dense_13 (Dense)             (None, 10)                170       \n",
      "=================================================================\n",
      "Total params: 129,082\n",
      "Trainable params: 129,082\n",
      "Non-trainable params: 0\n",
      "_________________________________________________________________\n"
     ]
    }
   ],
   "source": [
    "new_model.summary()"
   ]
  },
  {
   "cell_type": "code",
   "execution_count": null,
   "metadata": {},
   "outputs": [],
   "source": []
  }
 ],
 "metadata": {
  "kernelspec": {
   "display_name": "Python 3",
   "language": "python",
   "name": "python3"
  },
  "language_info": {
   "codemirror_mode": {
    "name": "ipython",
    "version": 3
   },
   "file_extension": ".py",
   "mimetype": "text/x-python",
   "name": "python",
   "nbconvert_exporter": "python",
   "pygments_lexer": "ipython3",
   "version": "3.7.3"
  }
 },
 "nbformat": 4,
 "nbformat_minor": 2
}
